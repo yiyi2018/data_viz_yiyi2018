{
 "cells": [
  {
   "cell_type": "code",
   "execution_count": 1,
   "metadata": {
    "collapsed": false
   },
   "outputs": [
    {
     "name": "stdout",
     "output_type": "stream",
     "text": [
      "Populating the interactive namespace from numpy and matplotlib\n"
     ]
    }
   ],
   "source": [
    "import pandas as pd\n",
    "import numpy as np\n",
    "import seaborn as sns\n",
    "%pylab inline"
   ]
  },
  {
   "cell_type": "code",
   "execution_count": 2,
   "metadata": {
    "collapsed": true
   },
   "outputs": [],
   "source": [
    "import warnings\n",
    "warnings.filterwarnings('ignore')"
   ]
  },
  {
   "cell_type": "code",
   "execution_count": 3,
   "metadata": {
    "collapsed": true
   },
   "outputs": [],
   "source": [
    "# print all the outputs in a cell\n",
    "from IPython.core.interactiveshell import InteractiveShell\n",
    "InteractiveShell.ast_node_interactivity = \"all\""
   ]
  },
  {
   "cell_type": "markdown",
   "metadata": {},
   "source": [
    "## Graph 6: Does higher gun ownership contribute to more gun homicides?"
   ]
  },
  {
   "cell_type": "markdown",
   "metadata": {},
   "source": [
    "Graph 6 is trying to verify that the higher the gun ownership rate, the higher number of gun homicides in a developed country. However, the countries presented by the graph not only include developed countries, but some developing countries as well. Another problem is that the origin of the graph is not on the left bottom and the y-axis is shifted, making it hard to see whether the gun ownership rate actually has correlation with gun homicides or not. To have a better understanding of the question, the Gun Homicides and Gun Ownership Listed by Country dataset is used for visualization.\n",
    "\n",
    "<br>1) Gun homicides and gun ownership listed by country\n",
    "<br>(Source: https://www.theguardian.com/news/datablog/2012/jul/22/gun-homicides-ownership-world-list#data)"
   ]
  },
  {
   "cell_type": "code",
   "execution_count": 4,
   "metadata": {
    "collapsed": true
   },
   "outputs": [],
   "source": [
    "world_firearms = pd.read_csv('World firearms murders and ownership.csv')"
   ]
  },
  {
   "cell_type": "code",
   "execution_count": 5,
   "metadata": {
    "collapsed": false
   },
   "outputs": [
    {
     "data": {
      "text/html": [
       "<div>\n",
       "<style>\n",
       "    .dataframe thead tr:only-child th {\n",
       "        text-align: right;\n",
       "    }\n",
       "\n",
       "    .dataframe thead th {\n",
       "        text-align: left;\n",
       "    }\n",
       "\n",
       "    .dataframe tbody tr th {\n",
       "        vertical-align: top;\n",
       "    }\n",
       "</style>\n",
       "<table border=\"1\" class=\"dataframe\">\n",
       "  <thead>\n",
       "    <tr style=\"text-align: right;\">\n",
       "      <th></th>\n",
       "      <th>Country/Territory</th>\n",
       "      <th>ISO code</th>\n",
       "      <th>Source</th>\n",
       "      <th>% of homicides by firearm</th>\n",
       "      <th>Number of homicides by firearm</th>\n",
       "      <th>Homicide by firearm rate per 100,000 pop</th>\n",
       "      <th>Rank by rate of ownership</th>\n",
       "      <th>Average firearms per 100 people</th>\n",
       "      <th>Average total all civilian firearms</th>\n",
       "    </tr>\n",
       "  </thead>\n",
       "  <tbody>\n",
       "    <tr>\n",
       "      <th>0</th>\n",
       "      <td>Albania</td>\n",
       "      <td>AL</td>\n",
       "      <td>CTS</td>\n",
       "      <td>65.9</td>\n",
       "      <td>56.0</td>\n",
       "      <td>1.76</td>\n",
       "      <td>70.0</td>\n",
       "      <td>8.6</td>\n",
       "      <td>270000.0</td>\n",
       "    </tr>\n",
       "    <tr>\n",
       "      <th>1</th>\n",
       "      <td>Algeria</td>\n",
       "      <td>DZ</td>\n",
       "      <td>CTS</td>\n",
       "      <td>4.8</td>\n",
       "      <td>20.0</td>\n",
       "      <td>0.06</td>\n",
       "      <td>78.0</td>\n",
       "      <td>7.6</td>\n",
       "      <td>1900000.0</td>\n",
       "    </tr>\n",
       "    <tr>\n",
       "      <th>2</th>\n",
       "      <td>Angola</td>\n",
       "      <td>AO</td>\n",
       "      <td>NaN</td>\n",
       "      <td>NaN</td>\n",
       "      <td>NaN</td>\n",
       "      <td>NaN</td>\n",
       "      <td>34.0</td>\n",
       "      <td>17.3</td>\n",
       "      <td>2800000.0</td>\n",
       "    </tr>\n",
       "    <tr>\n",
       "      <th>3</th>\n",
       "      <td>Anguilla</td>\n",
       "      <td>AI</td>\n",
       "      <td>WHO-MDB</td>\n",
       "      <td>24.0</td>\n",
       "      <td>1.0</td>\n",
       "      <td>7.14</td>\n",
       "      <td>NaN</td>\n",
       "      <td>NaN</td>\n",
       "      <td>NaN</td>\n",
       "    </tr>\n",
       "    <tr>\n",
       "      <th>4</th>\n",
       "      <td>Argentina</td>\n",
       "      <td>AR</td>\n",
       "      <td>Ministry of Justice</td>\n",
       "      <td>52.0</td>\n",
       "      <td>1198.0</td>\n",
       "      <td>3.02</td>\n",
       "      <td>62.0</td>\n",
       "      <td>10.2</td>\n",
       "      <td>3950000.0</td>\n",
       "    </tr>\n",
       "  </tbody>\n",
       "</table>\n",
       "</div>"
      ],
      "text/plain": [
       "  Country/Territory ISO code               Source  % of homicides by firearm  \\\n",
       "0           Albania       AL                  CTS                       65.9   \n",
       "1           Algeria       DZ                  CTS                        4.8   \n",
       "2            Angola       AO                  NaN                        NaN   \n",
       "3          Anguilla       AI              WHO-MDB                       24.0   \n",
       "4         Argentina       AR  Ministry of Justice                       52.0   \n",
       "\n",
       "   Number of homicides by firearm  Homicide by firearm rate per 100,000 pop  \\\n",
       "0                            56.0                                      1.76   \n",
       "1                            20.0                                      0.06   \n",
       "2                             NaN                                       NaN   \n",
       "3                             1.0                                      7.14   \n",
       "4                          1198.0                                      3.02   \n",
       "\n",
       "   Rank by rate of ownership  Average firearms per 100 people  \\\n",
       "0                       70.0                              8.6   \n",
       "1                       78.0                              7.6   \n",
       "2                       34.0                             17.3   \n",
       "3                        NaN                              NaN   \n",
       "4                       62.0                             10.2   \n",
       "\n",
       "   Average total all civilian firearms  \n",
       "0                             270000.0  \n",
       "1                            1900000.0  \n",
       "2                            2800000.0  \n",
       "3                                  NaN  \n",
       "4                            3950000.0  "
      ]
     },
     "execution_count": 5,
     "metadata": {},
     "output_type": "execute_result"
    }
   ],
   "source": [
    "world_firearms.head()"
   ]
  },
  {
   "cell_type": "markdown",
   "metadata": {},
   "source": [
    "The variables I am interested in are Country/Territory, Homicide by firearm rate per 100,000 pop and Average firearms per 100 people. So I drop the other columns and remove NAs."
   ]
  },
  {
   "cell_type": "code",
   "execution_count": 6,
   "metadata": {
    "collapsed": false
   },
   "outputs": [],
   "source": [
    "# Drop columns that are irrelevant\n",
    "world_firearms.drop('ISO code', axis=1, inplace=True)\n",
    "world_firearms.drop('Source', axis=1, inplace=True)\n",
    "world_firearms.drop('% of homicides by firearm', axis=1, inplace=True)\n",
    "world_firearms.drop('Number of homicides by firearm', axis=1, inplace=True)\n",
    "world_firearms.drop('Rank by rate of ownership', axis=1, inplace=True)\n",
    "world_firearms.drop('Average total all civilian firearms', axis=1, inplace=True)\n",
    "\n",
    "# Remove NAs\n",
    "world_firearms = world_firearms.dropna(axis=0, how='any')"
   ]
  },
  {
   "cell_type": "code",
   "execution_count": 7,
   "metadata": {
    "collapsed": false
   },
   "outputs": [],
   "source": [
    "world_firearms.to_csv(\"E:/SCU/2018 Spring/Data Viz/Graph 8/world_firearms.csv\")"
   ]
  },
  {
   "cell_type": "markdown",
   "metadata": {},
   "source": [
    "The cleaned dataset is used in Tableau for visualization. The countries are divided into two groups (developed countries vs developing countries) based on the Country Classification Report by the UN (source: http://www.un.org/en/development/desa/policy/wesp/wesp_current/2014wesp_country_classification.pdf)."
   ]
  },
  {
   "cell_type": "markdown",
   "metadata": {},
   "source": [
    "Finding #1: After redesigning the graph, it is hard to tell that higher gun ownership contribute to more gun homicides in developed, developing or all countries. \n",
    "\n",
    "<br>The _Gun Ownership and Gun Death_ graph describes the general patterns of the relationship of gun ownership and gun death. For the developed countries included the US, it could be easily seen that the US is an outlier with the highest gun ownership and gun homicide death. However, the R-squared of the correlation is only 0.51, indicating that the model explains around half of the variability of all the developed countries. The R-square becomes even worse in developed countries without US (9%), all countries without the US (1.3%), and all countries with the US (1%). Also, The _Country Comparison_ graph shows that the US ranks 1 in average gun ownership among all countries, but ranked 28 in gun homicide death. Thus, there is no clear evidence to prove that there is correlation or causation between gun ownership and gun homicide death. "
   ]
  },
  {
   "cell_type": "markdown",
   "metadata": {},
   "source": [
    "## Graph 8: Does stricker gun law reduce gun-related deaths?"
   ]
  },
  {
   "cell_type": "markdown",
   "metadata": {},
   "source": [
    "Graph 8 uses a map to verify the statement that States with tighter gun control laws have fewer gun-related deaths in the U.S. However, it is hard to tell from the map that there is any correlation between gun control laws and gun-related deaths. To figure out whether stringency of gun-control law have influence on gun-related deaths, I redesign the graph using the following datasets:\n",
    "\n",
    "<br>1) Number of Deaths Due to Injury by Firearms per 100,000 Population from 2013 to 2016\n",
    "<br>(source: https://www.kff.org/other/state-indicator/firearms-death-rate-per-100000/?currentTimeframe=0&sortModel=%7B%22colId%22:%22Location%22,%22sort%22:%22asc%22%7D)\n",
    "<br>2) Number of People Injured or Killed in Mass Shooting from 2013 to 2016\n",
    "<br>(source: http://www.gunviolencearchive.org/past-tolls)\n",
    "<br>3) Brady-State-Scorecard\n",
    "<br>(source: http://www.crimadvisor.com/?page=scorecard)"
   ]
  },
  {
   "cell_type": "code",
   "execution_count": 8,
   "metadata": {
    "collapsed": true
   },
   "outputs": [],
   "source": [
    "# Clean the law-score dataset\n",
    "law_score = pd.read_csv('Law-Score.csv')"
   ]
  },
  {
   "cell_type": "code",
   "execution_count": 9,
   "metadata": {
    "collapsed": false
   },
   "outputs": [
    {
     "data": {
      "text/html": [
       "<div>\n",
       "<style>\n",
       "    .dataframe thead tr:only-child th {\n",
       "        text-align: right;\n",
       "    }\n",
       "\n",
       "    .dataframe thead th {\n",
       "        text-align: left;\n",
       "    }\n",
       "\n",
       "    .dataframe tbody tr th {\n",
       "        vertical-align: top;\n",
       "    }\n",
       "</style>\n",
       "<table border=\"1\" class=\"dataframe\">\n",
       "  <thead>\n",
       "    <tr style=\"text-align: right;\">\n",
       "      <th></th>\n",
       "      <th>States can receive a maximum of 100 points</th>\n",
       "      <th>TOTAL STATE POINTS</th>\n",
       "    </tr>\n",
       "  </thead>\n",
       "  <tbody>\n",
       "    <tr>\n",
       "      <th>0</th>\n",
       "      <td>Alabama</td>\n",
       "      <td>-1.0</td>\n",
       "    </tr>\n",
       "    <tr>\n",
       "      <th>1</th>\n",
       "      <td>Alaska</td>\n",
       "      <td>-11.0</td>\n",
       "    </tr>\n",
       "    <tr>\n",
       "      <th>2</th>\n",
       "      <td>Arizona</td>\n",
       "      <td>-8.0</td>\n",
       "    </tr>\n",
       "    <tr>\n",
       "      <th>3</th>\n",
       "      <td>Arkansas</td>\n",
       "      <td>-25.0</td>\n",
       "    </tr>\n",
       "    <tr>\n",
       "      <th>4</th>\n",
       "      <td>California</td>\n",
       "      <td>66.0</td>\n",
       "    </tr>\n",
       "  </tbody>\n",
       "</table>\n",
       "</div>"
      ],
      "text/plain": [
       "  States can receive a maximum of 100 points                                            \\\n",
       "0                                            Alabama                                     \n",
       "1                                             Alaska                                     \n",
       "2                                            Arizona                                     \n",
       "3                                           Arkansas                                     \n",
       "4                                         California                                     \n",
       "\n",
       "   TOTAL STATE POINTS  \n",
       "0                -1.0  \n",
       "1               -11.0  \n",
       "2                -8.0  \n",
       "3               -25.0  \n",
       "4                66.0  "
      ]
     },
     "execution_count": 9,
     "metadata": {},
     "output_type": "execute_result"
    }
   ],
   "source": [
    "law_score.head()"
   ]
  },
  {
   "cell_type": "code",
   "execution_count": 10,
   "metadata": {
    "collapsed": true
   },
   "outputs": [],
   "source": [
    "# Normalize the total state points to a range of 0 to 1\n",
    "law_score['TOTAL STATE POINTS']=(law_score['TOTAL STATE POINTS'] - law_score['TOTAL STATE POINTS'].min()\n",
    "                              ) / (law_score['TOTAL STATE POINTS'].max() - law_score['TOTAL STATE POINTS'].min())\n",
    "\n",
    "# Divide the states into five parts with even space according the total state points\n",
    "law_score['Gun Law Grade']=pd.cut(law_score['TOTAL STATE POINTS'], 5, labels=[\"E\", \"D\", \"C\", \"B\", \"A\"])\n",
    "\n",
    "# Divide the states into five parts with even number of records in each bin\n",
    "law_score['Gun Law Grade Even']=pd.qcut(law_score['TOTAL STATE POINTS'], 5, labels=[\"E\", \"D\", \"C\", \"B\", \"A\"])"
   ]
  },
  {
   "cell_type": "code",
   "execution_count": 11,
   "metadata": {
    "collapsed": true
   },
   "outputs": [],
   "source": [
    "# Export the clean dataset\n",
    "law_score.to_csv(\"E:/SCU/2018 Spring/Data Viz/Graph 8/law_score.csv\")"
   ]
  },
  {
   "cell_type": "code",
   "execution_count": 12,
   "metadata": {
    "collapsed": true
   },
   "outputs": [],
   "source": [
    "# Clean the gun death dataset\n",
    "gun_deaths = pd.read_csv('FIREARMS2013-2016.csv')"
   ]
  },
  {
   "cell_type": "code",
   "execution_count": 13,
   "metadata": {
    "collapsed": false
   },
   "outputs": [
    {
     "data": {
      "text/html": [
       "<div>\n",
       "<style>\n",
       "    .dataframe thead tr:only-child th {\n",
       "        text-align: right;\n",
       "    }\n",
       "\n",
       "    .dataframe thead th {\n",
       "        text-align: left;\n",
       "    }\n",
       "\n",
       "    .dataframe tbody tr th {\n",
       "        vertical-align: top;\n",
       "    }\n",
       "</style>\n",
       "<table border=\"1\" class=\"dataframe\">\n",
       "  <thead>\n",
       "    <tr style=\"text-align: right;\">\n",
       "      <th></th>\n",
       "      <th>Location</th>\n",
       "      <th>2013</th>\n",
       "      <th>2014</th>\n",
       "      <th>2015</th>\n",
       "      <th>2016</th>\n",
       "    </tr>\n",
       "  </thead>\n",
       "  <tbody>\n",
       "    <tr>\n",
       "      <th>0</th>\n",
       "      <td>Alabama</td>\n",
       "      <td>17.6</td>\n",
       "      <td>16.9</td>\n",
       "      <td>19.7</td>\n",
       "      <td>21.5</td>\n",
       "    </tr>\n",
       "    <tr>\n",
       "      <th>1</th>\n",
       "      <td>Alaska</td>\n",
       "      <td>19.8</td>\n",
       "      <td>19.2</td>\n",
       "      <td>23.4</td>\n",
       "      <td>23.3</td>\n",
       "    </tr>\n",
       "    <tr>\n",
       "      <th>2</th>\n",
       "      <td>Arizona</td>\n",
       "      <td>14.1</td>\n",
       "      <td>13.5</td>\n",
       "      <td>13.8</td>\n",
       "      <td>15.2</td>\n",
       "    </tr>\n",
       "    <tr>\n",
       "      <th>3</th>\n",
       "      <td>Arkansas</td>\n",
       "      <td>16.8</td>\n",
       "      <td>16.6</td>\n",
       "      <td>17.0</td>\n",
       "      <td>17.8</td>\n",
       "    </tr>\n",
       "    <tr>\n",
       "      <th>4</th>\n",
       "      <td>California</td>\n",
       "      <td>7.7</td>\n",
       "      <td>7.4</td>\n",
       "      <td>7.7</td>\n",
       "      <td>7.9</td>\n",
       "    </tr>\n",
       "  </tbody>\n",
       "</table>\n",
       "</div>"
      ],
      "text/plain": [
       "     Location  2013  2014  2015  2016\n",
       "0     Alabama  17.6  16.9  19.7  21.5\n",
       "1      Alaska  19.8  19.2  23.4  23.3\n",
       "2     Arizona  14.1  13.5  13.8  15.2\n",
       "3    Arkansas  16.8  16.6  17.0  17.8\n",
       "4  California   7.7   7.4   7.7   7.9"
      ]
     },
     "execution_count": 13,
     "metadata": {},
     "output_type": "execute_result"
    }
   ],
   "source": [
    "gun_deaths.head()"
   ]
  },
  {
   "cell_type": "code",
   "execution_count": 14,
   "metadata": {
    "collapsed": true
   },
   "outputs": [],
   "source": [
    "gun_deaths['Sum'] = gun_deaths.sum(axis=1)\n",
    "\n",
    "# Export the clean dataset\n",
    "gun_deaths.to_csv(\"E:/SCU/2018 Spring/Data Viz/Graph 8/gun_deaths.csv\")"
   ]
  },
  {
   "cell_type": "markdown",
   "metadata": {
    "collapsed": false
   },
   "source": [
    "Finding 2: After redesigning the graph, it seems stricker gun control law does not lead to fewer gun-related deaths. \n",
    "\n",
    "<br> The _Overall Trend_ shows that the model can only explain around 14% of the variability of all the developed countries. There is no clear correlation between stricker gun control law or gun-related deaths. If we categorize the states by the degree of law stringency (either divided by even interval of the grades or even frenquency in each grade), we could see that in general, states with stricker gun-control law seem to have a lower number of gun-related deaths. However, if we break the sum in the second and third graph to show the average number of deaths for each state by law score grade, we can see the trend within each grade seems to be identical. Thus, gun law stringency does not seem to have a huge impact on reducing gun-related deaths. "
   ]
  },
  {
   "cell_type": "markdown",
   "metadata": {},
   "source": [
    "## Graph 14: Are polices more likely to be killed in homicides in states with more guns?"
   ]
  },
  {
   "cell_type": "markdown",
   "metadata": {},
   "source": [
    "Graph 14 states that police are more likely to be killed in homicides in states with more guns. But the graph only contains \"Homicide rate per 10,000 law enforcement officers\" for \"high-gun states\" and \"low-gun states\" without clear definition on the terms. Thus, I decided to redesign this graph so as to have a clear idea about the gun ownership rate in each state, as well as whether the statement of the graph is true.\n",
    "\n",
    "<br>To redesign this graph, three datasets are obtained from the following sources:\n",
    "<br>1) Annual Estimates of the Resident Population for the United States by States: since I cannot find data estimating the population by the end of 2017, I use the numbers up to July 2017 as an approximation.\n",
    "   <br>(source: https://www.census.gov/data/tables/2017/demo/popest/state-total.html)\n",
    "<br>2) National Firearms Act Registered Weapons by State (April 2017): this dataset only covers data by April 2017 and only contains information of registered guns. Since I cannot find any other dataset related to gun ownership by state, I use this dataset as an approximation. \n",
    "   <br>(source: https://www.atf.gov/resource-center/docs/undefined/firearms-commerce-united-states-annual-statistical-update-2017/download)\n",
    "<br>3) Number of officer Shot or Killed in Gun Violence Incidents from 2014 to 2017\n",
    "   <br>(source: http://www.gunviolencearchive.org/past-tolls)"
   ]
  },
  {
   "cell_type": "code",
   "execution_count": 15,
   "metadata": {
    "collapsed": true
   },
   "outputs": [],
   "source": [
    "# Clean the population and gun ownership dataset\n",
    "population = pd.read_csv('Population.csv')\n",
    "gun_ownership = pd.read_csv('GunOwnership.csv')\n",
    "\n",
    "gun_ownership = population.merge(gun_ownership, left_on='State', right_on='Location', how='inner')"
   ]
  },
  {
   "cell_type": "code",
   "execution_count": 16,
   "metadata": {
    "collapsed": false
   },
   "outputs": [
    {
     "data": {
      "text/html": [
       "<div>\n",
       "<style>\n",
       "    .dataframe thead tr:only-child th {\n",
       "        text-align: right;\n",
       "    }\n",
       "\n",
       "    .dataframe thead th {\n",
       "        text-align: left;\n",
       "    }\n",
       "\n",
       "    .dataframe tbody tr th {\n",
       "        vertical-align: top;\n",
       "    }\n",
       "</style>\n",
       "<table border=\"1\" class=\"dataframe\">\n",
       "  <thead>\n",
       "    <tr style=\"text-align: right;\">\n",
       "      <th></th>\n",
       "      <th>State</th>\n",
       "      <th>Population Estimate by July 1 in 2017</th>\n",
       "      <th>Location</th>\n",
       "      <th>Gun Ownership by April 2017</th>\n",
       "    </tr>\n",
       "  </thead>\n",
       "  <tbody>\n",
       "    <tr>\n",
       "      <th>0</th>\n",
       "      <td>Alabama</td>\n",
       "      <td>4874747</td>\n",
       "      <td>Alabama</td>\n",
       "      <td>161641</td>\n",
       "    </tr>\n",
       "    <tr>\n",
       "      <th>1</th>\n",
       "      <td>Alaska</td>\n",
       "      <td>739795</td>\n",
       "      <td>Alaska</td>\n",
       "      <td>15824</td>\n",
       "    </tr>\n",
       "    <tr>\n",
       "      <th>2</th>\n",
       "      <td>Arizona</td>\n",
       "      <td>7016270</td>\n",
       "      <td>Arizona</td>\n",
       "      <td>79841</td>\n",
       "    </tr>\n",
       "    <tr>\n",
       "      <th>3</th>\n",
       "      <td>Arkansas</td>\n",
       "      <td>3004279</td>\n",
       "      <td>Arkansas</td>\n",
       "      <td>179738</td>\n",
       "    </tr>\n",
       "    <tr>\n",
       "      <th>4</th>\n",
       "      <td>California</td>\n",
       "      <td>39536653</td>\n",
       "      <td>California</td>\n",
       "      <td>344622</td>\n",
       "    </tr>\n",
       "  </tbody>\n",
       "</table>\n",
       "</div>"
      ],
      "text/plain": [
       "        State  Population Estimate by July 1 in 2017    Location  \\\n",
       "0     Alabama                                4874747     Alabama   \n",
       "1      Alaska                                 739795      Alaska   \n",
       "2     Arizona                                7016270     Arizona   \n",
       "3    Arkansas                                3004279    Arkansas   \n",
       "4  California                               39536653  California   \n",
       "\n",
       "   Gun Ownership by April 2017  \n",
       "0                       161641  \n",
       "1                        15824  \n",
       "2                        79841  \n",
       "3                       179738  \n",
       "4                       344622  "
      ]
     },
     "execution_count": 16,
     "metadata": {},
     "output_type": "execute_result"
    }
   ],
   "source": [
    "gun_ownership.head()"
   ]
  },
  {
   "cell_type": "code",
   "execution_count": 17,
   "metadata": {
    "collapsed": true
   },
   "outputs": [],
   "source": [
    "# Drop useless column and create new columns to represent gun per 1000 people and gun ownership grade\n",
    "gun_ownership.drop('Location', axis=1, inplace=True)\n",
    "\n",
    "gun_ownership['Gun Ownership by April 2017'] = gun_ownership['Gun Ownership by April 2017'].astype(int)\n",
    "\n",
    "gun_ownership['Gun per 1000 people'] = gun_ownership['Gun Ownership by April 2017'] / gun_ownership[\n",
    "    'Population Estimate by July 1 in 2017'] * 1000\n",
    "\n",
    "gun_ownership['Gun Ownership Grade']=pd.qcut(gun_ownership['Gun per 1000 people'], 3, labels=[\"C\", \"B\", \"A\"])\n",
    "\n",
    "gun_ownership.to_csv(\"E:/SCU/2018 Spring/Data Viz/Graph 8/gun_ownership.csv\")"
   ]
  },
  {
   "cell_type": "code",
   "execution_count": 18,
   "metadata": {
    "collapsed": false
   },
   "outputs": [],
   "source": [
    "# Clean the police dataset\n",
    "dfs = {}\n",
    "for year in range(2014, 2018):\n",
    "    police = pd.read_csv('%d Police.csv' % year)\n",
    "    police.drop('Incident Date', axis=1, inplace=True)\n",
    "    police.drop('City Or County', axis=1, inplace=True)\n",
    "    police.drop('Address', axis=1, inplace=True)\n",
    "    police.drop('Operations', axis=1, inplace=True)\n",
    "    column_name = \"Sum%d\" % year\n",
    "    police[column_name] = police.sum(axis=1)\n",
    "    police = police.groupby('State')[column_name].sum()\n",
    "    dfs[year] = police.to_frame()\n",
    "    \n",
    "police = (dfs[2014].merge(dfs[2015], left_index=True, right_index=True)\n",
    "          .merge(dfs[2016], left_index=True, right_index=True)\n",
    "          .merge(dfs[2017], left_index=True, right_index=True))"
   ]
  },
  {
   "cell_type": "code",
   "execution_count": 19,
   "metadata": {
    "collapsed": true
   },
   "outputs": [],
   "source": [
    "# Create a new variable for average police been killed/injured over the four years\n",
    "police['Ave per Year'] = police.sum(axis=1) / 4"
   ]
  },
  {
   "cell_type": "markdown",
   "metadata": {},
   "source": [
    "Finding 3: From the redesigned graph, there is no strong relationship between gun ownership and police killed/injured in homicides. \n",
    "\n",
    "First, the gun ownership rate is divided into three categories with the same number of states in each categories. The _Gun Ownership and Police Death graph_ shows that states with the highest rate of gun ownership has much higher average number of police death/injuries. However, if we break it by state in _Gun Ownership and Police Death graph_, it seems that the patterns for each level of gun ownership are quite similar. This is especially true if we remove Nevada (since it could be regarded as an outlier owing to the Las Vegas mass shooting in 2017). Doing so will make the trends in each category looks identical and thus could not justify the original statement that polices more likely to be killed in homicides in states with more guns."
   ]
  }
 ],
 "metadata": {
  "kernelspec": {
   "display_name": "Python 2",
   "language": "python",
   "name": "python2"
  },
  "language_info": {
   "codemirror_mode": {
    "name": "ipython",
    "version": 2
   },
   "file_extension": ".py",
   "mimetype": "text/x-python",
   "name": "python",
   "nbconvert_exporter": "python",
   "pygments_lexer": "ipython2",
   "version": "2.7.11"
  }
 },
 "nbformat": 4,
 "nbformat_minor": 0
}
